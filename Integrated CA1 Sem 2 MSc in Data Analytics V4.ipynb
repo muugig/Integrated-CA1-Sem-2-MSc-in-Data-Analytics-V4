{
 "cells": [
  {
   "cell_type": "code",
   "execution_count": 4,
   "id": "772e458f",
   "metadata": {},
   "outputs": [],
   "source": [
    "import numpy as np\n",
    "import pandas as pd\n",
    "from tensorflow.keras.models import Model\n",
    "from tensorflow.keras.layers import Input, Embedding, Flatten, Concatenate, Dense, Dropout\n",
    "from tensorflow.keras.optimizers import Adam\n",
    "from sklearn.model_selection import train_test_split\n",
    "from sklearn.preprocessing import LabelEncoder\n",
    "from tensorflow.keras.callbacks import EarlyStopping\n",
    "from sklearn.metrics import confusion_matrix, ConfusionMatrixDisplay, mean_squared_error, mean_absolute_error\n",
    "import matplotlib.pyplot as plt\n",
    "import os"
   ]
  },
  {
   "cell_type": "code",
   "execution_count": 5,
   "id": "3b15417b",
   "metadata": {},
   "outputs": [],
   "source": [
    "# Load dataset\n",
    "ratings = pd.read_csv('ml-100k/u.data', sep='\\t', names=['user_id', 'movie_id', 'rating', 'timestamp'])"
   ]
  },
  {
   "cell_type": "code",
   "execution_count": 6,
   "id": "99c19248",
   "metadata": {},
   "outputs": [
    {
     "name": "stdout",
     "output_type": "stream",
     "text": [
      "            user_id       movie_id         rating     timestamp\n",
      "count  100000.00000  100000.000000  100000.000000  1.000000e+05\n",
      "mean      462.48475     425.530130       3.529860  8.835289e+08\n",
      "std       266.61442     330.798356       1.125674  5.343856e+06\n",
      "min         1.00000       1.000000       1.000000  8.747247e+08\n",
      "25%       254.00000     175.000000       3.000000  8.794487e+08\n",
      "50%       447.00000     322.000000       4.000000  8.828269e+08\n",
      "75%       682.00000     631.000000       4.000000  8.882600e+08\n",
      "max       943.00000    1682.000000       5.000000  8.932866e+08\n"
     ]
    }
   ],
   "source": [
    "# Display basic statistics and first few rows of the dataset\n",
    "print(ratings.describe())"
   ]
  },
  {
   "cell_type": "code",
   "execution_count": 7,
   "id": "da1a5da3",
   "metadata": {},
   "outputs": [
    {
     "name": "stdout",
     "output_type": "stream",
     "text": [
      "   user_id  movie_id  rating  timestamp\n",
      "0      196       242       3  881250949\n",
      "1      186       302       3  891717742\n",
      "2       22       377       1  878887116\n",
      "3      244        51       2  880606923\n",
      "4      166       346       1  886397596\n"
     ]
    }
   ],
   "source": [
    "print(ratings.head())"
   ]
  },
  {
   "cell_type": "code",
   "execution_count": 20,
   "id": "c22b7128",
   "metadata": {},
   "outputs": [
    {
     "name": "stdout",
     "output_type": "stream",
     "text": [
      "<class 'pandas.core.frame.DataFrame'>\n",
      "RangeIndex: 100000 entries, 0 to 99999\n",
      "Data columns (total 4 columns):\n",
      " #   Column     Non-Null Count   Dtype\n",
      "---  ------     --------------   -----\n",
      " 0   user_id    100000 non-null  int64\n",
      " 1   movie_id   100000 non-null  int64\n",
      " 2   rating     100000 non-null  int64\n",
      " 3   timestamp  100000 non-null  int64\n",
      "dtypes: int64(4)\n",
      "memory usage: 3.1 MB\n",
      "None\n"
     ]
    }
   ],
   "source": [
    "print(ratings.info())"
   ]
  },
  {
   "cell_type": "markdown",
   "id": "4deb2b71",
   "metadata": {},
   "source": [
    "### Preprocess data"
   ]
  },
  {
   "cell_type": "code",
   "execution_count": 8,
   "id": "4488b235",
   "metadata": {},
   "outputs": [],
   "source": [
    "# Encode user IDs and movie IDs to integer indices\n",
    "label_encoder_user = LabelEncoder()\n",
    "label_encoder_movie = LabelEncoder()\n",
    "\n",
    "ratings['user_id'] = label_encoder_user.fit_transform(ratings['user_id'])\n",
    "ratings['movie_id'] = label_encoder_movie.fit_transform(ratings['movie_id'])"
   ]
  },
  {
   "cell_type": "code",
   "execution_count": 9,
   "id": "4292ed2b",
   "metadata": {},
   "outputs": [],
   "source": [
    "# Split data into features and target variable, then into training and testing sets\n",
    "X = ratings[['user_id', 'movie_id']]\n",
    "y = ratings['rating']\n",
    "X_train, X_test, y_train, y_test = train_test_split(X, y, test_size=0.2, random_state=42)"
   ]
  },
  {
   "cell_type": "markdown",
   "id": "bb1b1a61",
   "metadata": {},
   "source": [
    "### Model parameters"
   ]
  },
  {
   "cell_type": "code",
   "execution_count": 10,
   "id": "c78dfed1",
   "metadata": {},
   "outputs": [],
   "source": [
    "# Determine the number of unique users and movies for embedding layers\n",
    "num_users = ratings['user_id'].nunique()\n",
    "num_movies = ratings['movie_id'].nunique()\n",
    "embedding_size = 50"
   ]
  },
  {
   "cell_type": "markdown",
   "id": "89e50f0f",
   "metadata": {},
   "source": [
    "### NCF Model"
   ]
  },
  {
   "cell_type": "code",
   "execution_count": 11,
   "id": "0a92680f",
   "metadata": {},
   "outputs": [],
   "source": [
    "# Input layers\n",
    "user_input = Input(shape=(1,), name='user_input')\n",
    "movie_input = Input(shape=(1,), name='movie_input')\n",
    "\n",
    "# Embedding layers\n",
    "user_embedding = Embedding(num_users, embedding_size, name='user_embedding')(user_input)\n",
    "movie_embedding = Embedding(num_movies, embedding_size, name='movie_embedding')(movie_input)\n",
    "\n",
    "# Flatten the embedding vectors\n",
    "user_vec = Flatten(name='user_flatten')(user_embedding)\n",
    "movie_vec = Flatten(name='movie_flatten')(movie_embedding)\n",
    "\n",
    "# Concatenate flattened vectors and add dropout layer\n",
    "concat = Concatenate()([user_vec, movie_vec])\n",
    "dense1 = Dense(128, activation='relu')(concat)\n",
    "dropout = Dropout(0.5)(dense1)\n",
    "dense2 = Dense(64, activation='relu')(dropout)\n",
    "output = Dense(1)(dense2)\n"
   ]
  },
  {
   "cell_type": "code",
   "execution_count": 12,
   "id": "d4277b2c",
   "metadata": {},
   "outputs": [
    {
     "name": "stdout",
     "output_type": "stream",
     "text": [
      "Epoch 1/20\n",
      "1250/1250 [==============================] - 5s 3ms/step - loss: 1.4038 - val_loss: 0.9128\n",
      "Epoch 2/20\n",
      "1250/1250 [==============================] - 4s 3ms/step - loss: 0.9457 - val_loss: 0.8927\n",
      "Epoch 3/20\n",
      "1250/1250 [==============================] - 4s 4ms/step - loss: 0.8966 - val_loss: 0.8823\n",
      "Epoch 4/20\n",
      "1250/1250 [==============================] - 4s 3ms/step - loss: 0.8690 - val_loss: 0.8781\n",
      "Epoch 5/20\n",
      "1250/1250 [==============================] - 4s 3ms/step - loss: 0.8475 - val_loss: 0.8849\n",
      "Epoch 6/20\n",
      "1250/1250 [==============================] - 4s 3ms/step - loss: 0.8316 - val_loss: 0.8903\n",
      "Epoch 7/20\n",
      "1250/1250 [==============================] - 4s 3ms/step - loss: 0.8107 - val_loss: 0.8686\n",
      "Epoch 8/20\n",
      "1250/1250 [==============================] - 4s 3ms/step - loss: 0.7909 - val_loss: 0.8616\n",
      "Epoch 9/20\n",
      "1250/1250 [==============================] - 4s 4ms/step - loss: 0.7714 - val_loss: 0.8696\n",
      "Epoch 10/20\n",
      "1250/1250 [==============================] - 4s 3ms/step - loss: 0.7548 - val_loss: 0.8708\n",
      "Epoch 11/20\n",
      "1250/1250 [==============================] - 4s 3ms/step - loss: 0.7366 - val_loss: 0.8714\n"
     ]
    }
   ],
   "source": [
    "# Compile and train the model\n",
    "model = Model([user_input, movie_input], output)\n",
    "model.compile(optimizer=Adam(0.001), loss='mean_squared_error')\n",
    "\n",
    "early_stopping = EarlyStopping(monitor='val_loss', patience=3, restore_best_weights=True)\n",
    "history = model.fit([X_train.user_id, X_train.movie_id], y_train, batch_size=64, epochs=20,\n",
    "                    validation_data=([X_test.user_id, X_test.movie_id], y_test), callbacks=[early_stopping])\n"
   ]
  },
  {
   "cell_type": "markdown",
   "id": "5aa394cd",
   "metadata": {},
   "source": [
    "### Evaluate model"
   ]
  },
  {
   "cell_type": "code",
   "execution_count": 13,
   "id": "8971febf",
   "metadata": {},
   "outputs": [
    {
     "name": "stdout",
     "output_type": "stream",
     "text": [
      "625/625 [==============================] - 1s 1ms/step\n",
      "RMSE: 0.9282\n",
      "MAE: 0.7303\n"
     ]
    }
   ],
   "source": [
    "y_pred = model.predict([X_test.user_id, X_test.movie_id]).flatten()\n",
    "rmse = np.sqrt(mean_squared_error(y_test, y_pred))\n",
    "mae = mean_absolute_error(y_test, y_pred)\n",
    "\n",
    "print(f'RMSE: {rmse:.4f}')\n",
    "print(f'MAE: {mae:.4f}')"
   ]
  },
  {
   "cell_type": "markdown",
   "id": "63b624d2",
   "metadata": {},
   "source": [
    "### Plot training & validation loss values"
   ]
  },
  {
   "cell_type": "code",
   "execution_count": 14,
   "id": "538cc4d8",
   "metadata": {},
   "outputs": [
    {
     "data": {
      "image/png": "[encoded data removed]",
      "text/plain": [
       "<Figure size 1000x600 with 1 Axes>"
      ]
     },
     "metadata": {},
     "output_type": "display_data"
    }
   ],
   "source": [
    "plt.figure(figsize=(10, 6))\n",
    "plt.plot(history.history['loss'], label='Train Loss')\n",
    "plt.plot(history.history['val_loss'], label='Validation Loss')\n",
    "plt.title('Model Loss')\n",
    "plt.ylabel('Loss')\n",
    "plt.xlabel('Epoch')\n",
    "plt.legend(loc='upper right')\n",
    "plt.show()"
   ]
  },
  {
   "cell_type": "markdown",
   "id": "412dd15b",
   "metadata": {},
   "source": [
    "### Predict on the test set"
   ]
  },
  {
   "cell_type": "code",
   "execution_count": 15,
   "id": "928e1265",
   "metadata": {},
   "outputs": [
    {
     "name": "stdout",
     "output_type": "stream",
     "text": [
      "625/625 [==============================] - 1s 2ms/step\n"
     ]
    }
   ],
   "source": [
    "y_pred = model.predict([X_test.user_id, X_test.movie_id])"
   ]
  },
  {
   "cell_type": "markdown",
   "id": "da6e6be8",
   "metadata": {},
   "source": [
    "### Convert predictions and true values to binary"
   ]
  },
  {
   "cell_type": "code",
   "execution_count": 16,
   "id": "0e6e99ab",
   "metadata": {},
   "outputs": [],
   "source": [
    "# Convert predictions and true values to binary (like/dislike) based on a threshold, e.g., 3.5\n",
    "threshold = 3.5\n",
    "y_pred_bin = (y_pred > threshold).astype(int)\n",
    "y_test_bin = (y_test > threshold).astype(int)"
   ]
  },
  {
   "cell_type": "markdown",
   "id": "dd398403",
   "metadata": {},
   "source": [
    "### Generate and plot confusion matrix"
   ]
  },
  {
   "cell_type": "code",
   "execution_count": 17,
   "id": "c368a673",
   "metadata": {},
   "outputs": [],
   "source": [
    "cm = confusion_matrix(y_test_bin, y_pred_bin)"
   ]
  },
  {
   "cell_type": "code",
   "execution_count": 18,
   "id": "2e34c589",
   "metadata": {},
   "outputs": [
    {
     "data": {
      "image/png": "[encoded data removed]",
      "text/plain": [
       "<Figure size 640x480 with 2 Axes>"
      ]
     },
     "metadata": {},
     "output_type": "display_data"
    }
   ],
   "source": [
    "threshold = 3.5\n",
    "y_pred_bin = (y_pred > threshold).astype(int)\n",
    "y_test_bin = (y_test > threshold).astype(int)\n",
    "\n",
    "cm = confusion_matrix(y_test_bin, y_pred_bin)\n",
    "disp = ConfusionMatrixDisplay(confusion_matrix=cm)\n",
    "disp.plot(cmap=plt.cm.Blues)\n",
    "plt.show()"
   ]
  },
  {
   "cell_type": "code",
   "execution_count": 19,
   "id": "aa3d7672",
   "metadata": {},
   "outputs": [
    {
     "name": "stderr",
     "output_type": "stream",
     "text": [
      "C:\\Users\\junai\\anaconda3\\Lib\\site-packages\\keras\\src\\engine\\training.py:3103: UserWarning: You are saving your model as an HDF5 file via `model.save()`. This file format is considered legacy. We recommend using instead the native Keras format, e.g. `model.save('my_model.keras')`.\n",
      "  saving_api.save_model(\n"
     ]
    }
   ],
   "source": [
    "# Save Model\n",
    "model.save('ncf_model.h5')"
   ]
  },
  {
   "cell_type": "code",
   "execution_count": null,
   "id": "1d6994f8",
   "metadata": {},
   "outputs": [],
   "source": []
  }
 ],
 "metadata": {
  "kernelspec": {
   "display_name": "Python 3 (ipykernel)",
   "language": "python",
   "name": "python3"
  },
  "language_info": {
   "codemirror_mode": {
    "name": "ipython",
    "version": 3
   },
   "file_extension": ".py",
   "mimetype": "text/x-python",
   "name": "python",
   "nbconvert_exporter": "python",
   "pygments_lexer": "ipython3",
   "version": "3.11.5"
  }
 },
 "nbformat": 4,
 "nbformat_minor": 5
}
